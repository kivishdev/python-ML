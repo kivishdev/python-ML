{
 "cells": [
  {
   "cell_type": "code",
   "execution_count": null,
   "metadata": {},
   "outputs": [],
   "source": [
    "# Import necessary libraries\n",
    "import pandas as pd\n",
    "from sklearn.model_selection import train_test_split\n",
    "from sklearn.ensemble import RandomForestClassifier\n",
    "from sklearn.metrics import accuracy_score"
   ]
  },
  {
   "cell_type": "code",
   "execution_count": null,
   "metadata": {},
   "outputs": [],
   "source": [
    "# Load your dataset\n",
    "data = pd.read_csv('green_yashviiiii.csv')"
   ]
  },
  {
   "cell_type": "code",
   "execution_count": null,
   "metadata": {},
   "outputs": [],
   "source": [
    "# Check if the dataset is loaded correctly\n",
    "print(data.head())  # Check the first few rows of the dataset"
   ]
  },
  {
   "cell_type": "code",
   "execution_count": null,
   "metadata": {},
   "outputs": [],
   "source": [
    "# Split dataset into features (X) and target variable (y)\n",
    "X = data.drop('HEART FAILURE', axis=1)  # Features\n",
    "y = data['HEART FAILURE']                # Target variable"
   ]
  },
  {
   "cell_type": "code",
   "execution_count": null,
   "metadata": {},
   "outputs": [],
   "source": [
    "# Split the dataset into training and testing sets\n",
    "X_train, X_test, y_train, y_test = train_test_split(X, y, test_size=0.2, random_state=42)"
   ]
  },
  {
   "cell_type": "code",
   "execution_count": null,
   "metadata": {},
   "outputs": [],
   "source": [
    "# Initialize and train the model (Example: Random Forest Classifier)\n",
    "model = RandomForestClassifier(n_estimators=100, random_state=42)"
   ]
  },
  {
   "cell_type": "code",
   "execution_count": null,
   "metadata": {},
   "outputs": [],
   "source": [
    "# Train the model on the training data\n",
    "model.fit(X_train, y_train)"
   ]
  },
  {
   "cell_type": "code",
   "execution_count": null,
   "metadata": {},
   "outputs": [],
   "source": [
    "# Make predictions\n",
    "y_pred = model.predict(X_test)\n"
   ]
  },
  {
   "cell_type": "code",
   "execution_count": null,
   "metadata": {},
   "outputs": [],
   "source": [
    "# Evaluate the model's performance\n",
    "accuracy = accuracy_score(y_test, y_pred)\n",
    "print(\"Accuracy:\", accuracy)"
   ]
  },
  {
   "cell_type": "code",
   "execution_count": null,
   "metadata": {},
   "outputs": [],
   "source": [
    "import matplotlib.pyplot as plt\n",
    "from sklearn.metrics import precision_score, recall_score, f1_score, confusion_matrix, roc_curve, roc_auc_score\n",
    "\n",
    "# Calculate precision, recall, and F1-score\n",
    "precision = precision_score(y_test, y_pred)\n",
    "recall = recall_score(y_test, y_pred)\n",
    "f1 = f1_score(y_test, y_pred)\n",
    "\n",
    "print(\"Precision:\", precision)\n",
    "print(\"Recall:\", recall)\n",
    "print(\"F1-score:\", f1)\n",
    "\n",
    "# Compute confusion matrix\n",
    "conf_matrix = confusion_matrix(y_test, y_pred)\n",
    "print(\"Confusion Matrix:\")\n",
    "print(conf_matrix)\n",
    "\n",
    "# Plot ROC curve and calculate AUC-ROC score\n",
    "fpr, tpr, thresholds = roc_curve(y_test, y_pred)\n",
    "auc_roc = roc_auc_score(y_test, y_pred)\n",
    "\n",
    "# Plot ROC curve\n",
    "plt.figure(figsize=(8, 6))\n",
    "plt.plot(fpr, tpr, color='blue', lw=2, label='ROC curve (AUC = %0.2f)' % auc_roc)\n",
    "plt.plot([0, 1], [0, 1], color='gray', linestyle='--')\n",
    "plt.xlabel('False Positive Rate')\n",
    "plt.ylabel('True Positive Rate')\n",
    "plt.title('Receiver Operating Characteristic (ROC) Curve')\n",
    "plt.legend(loc=\"lower right\")\n",
    "plt.show()\n",
    "\n",
    "\n",
    "\n"
   ]
  },
  {
   "cell_type": "code",
   "execution_count": null,
   "metadata": {},
   "outputs": [],
   "source": [
    "from sklearn.model_selection import GridSearchCV\n",
    "\n",
    "# Define the parameter grid\n",
    "param_grid = {\n",
    "    'n_estimators': [50, 100, 150, 200],  # Number of trees in the forest\n",
    "    # Add more hyperparameters to tune if needed\n",
    "}\n",
    "\n",
    "# Initialize the Random Forest Classifier\n",
    "rf_classifier = RandomForestClassifier(random_state=42)\n",
    "\n",
    "# Initialize Grid Search Cross Validation\n",
    "grid_search = GridSearchCV(estimator=rf_classifier, param_grid=param_grid, cv=5, scoring='accuracy')\n",
    "\n",
    "# Perform Grid Search Cross Validation\n",
    "grid_search.fit(X_train, y_train)\n",
    "\n",
    "# Get the best parameters and best score\n",
    "best_params = grid_search.best_params_\n",
    "best_score = grid_search.best_score_\n",
    "\n",
    "print(\"Best Parameters:\", best_params)\n",
    "print(\"Best Score:\", best_score)\n"
   ]
  },
  {
   "cell_type": "code",
   "execution_count": null,
   "metadata": {},
   "outputs": [],
   "source": [
    "# Initialize the Random Forest Classifier with the best parameters\n",
    "best_rf_classifier = RandomForestClassifier(n_estimators=100, random_state=42)\n",
    "\n",
    "# Retrain the model on the entire training dataset\n",
    "best_rf_classifier.fit(X_train, y_train)\n",
    "\n",
    "# Make predictions on the test data\n",
    "best_y_pred = best_rf_classifier.predict(X_test)\n",
    "\n",
    "# Evaluate the model's performance\n",
    "best_accuracy = accuracy_score(y_test, best_y_pred)\n",
    "print(\"Best Model Accuracy:\", best_accuracy)\n"
   ]
  },
  {
   "cell_type": "code",
   "execution_count": null,
   "metadata": {},
   "outputs": [],
   "source": [
    "# Get feature importances\n",
    "feature_importances = best_rf_classifier.feature_importances_\n",
    "\n",
    "# Create a DataFrame to display feature importances\n",
    "feature_importance_df = pd.DataFrame({'Feature': X.columns, 'Importance': feature_importances})\n",
    "feature_importance_df = feature_importance_df.sort_values(by='Importance', ascending=False)\n",
    "\n",
    "# Plot feature importances\n",
    "plt.figure(figsize=(10, 6))\n",
    "plt.barh(feature_importance_df['Feature'], feature_importance_df['Importance'])\n",
    "plt.xlabel('Importance')\n",
    "plt.ylabel('Feature')\n",
    "plt.title('Feature Importance')\n",
    "plt.show()\n"
   ]
  },
  {
   "cell_type": "code",
   "execution_count": null,
   "metadata": {},
   "outputs": [],
   "source": [
    "import numpy as np\n",
    "\n",
    "# Define the range of values for the feature\n",
    "feature_values = np.linspace(X_train['AGE'].min(), X_train['AGE'].max(), num=50)\n",
    "\n",
    "# Calculate the average predicted probability for each value of the feature\n",
    "pdp_values = []\n",
    "for value in feature_values:\n",
    "    X_temp = X_train.copy()\n",
    "    X_temp['AGE'] = value\n",
    "    pdp_values.append(np.mean(best_rf_classifier.predict_proba(X_temp)[:, 1]))\n",
    "\n",
    "# Plot the PDP\n",
    "plt.figure(figsize=(8, 6))\n",
    "plt.plot(feature_values, pdp_values, marker='o')\n",
    "plt.xlabel('Age')\n",
    "plt.ylabel('Partial Dependence')\n",
    "plt.title('Partial Dependence Plot for Age')\n",
    "plt.show()\n",
    "\n"
   ]
  },
  {
   "cell_type": "code",
   "execution_count": null,
   "metadata": {},
   "outputs": [],
   "source": [
    "# Make predictions on the test data\n",
    "y_pred_test = best_rf_classifier.predict(X_test)\n",
    "\n",
    "# Evaluate the model's performance on the test data\n",
    "accuracy_test = accuracy_score(y_test, y_pred_test)\n",
    "precision_test = precision_score(y_test, y_pred_test)\n",
    "recall_test = recall_score(y_test, y_pred_test)\n",
    "f1_test = f1_score(y_test, y_pred_test)\n",
    "conf_matrix_test = confusion_matrix(y_test, y_pred_test)\n",
    "\n",
    "print(\"Test Set Performance Metrics:\")\n",
    "print(\"Accuracy:\", accuracy_test)\n",
    "print(\"Precision:\", precision_test)\n",
    "print(\"Recall:\", recall_test)\n",
    "print(\"F1-score:\", f1_test)\n",
    "print(\"Confusion Matrix:\")\n",
    "print(conf_matrix_test)\n"
   ]
  },
  {
   "cell_type": "code",
   "execution_count": null,
   "metadata": {},
   "outputs": [],
   "source": [
    "# Example of a patient with severe heart failure\n",
    "example_data_severe_heart_failure = [[55, 1, 0, 1, 1, 1, 1, 250, 1]]\n",
    "\n",
    "# Predict using the trained model\n",
    "prediction_severe_heart_failure = best_rf_classifier.predict(example_data_severe_heart_failure)\n",
    "\n",
    "# Map the prediction to a human-readable label\n",
    "prediction_label_severe_heart_failure = \"Heart Failure\" if prediction_severe_heart_failure[0] == 1 else \"No Heart Failure\"\n",
    "\n",
    "print(\"Prediction for the example data (Severe Heart Failure):\")\n",
    "print(\"Prediction:\", prediction_label_severe_heart_failure)\n"
   ]
  },
  {
   "cell_type": "code",
   "execution_count": null,
   "metadata": {},
   "outputs": [],
   "source": [
    "import pandas as pd\n",
    "\n",
    "# Load the dataset\n",
    "data = pd.read_csv('green_yashviiiii.csv')\n",
    "\n",
    "# Display the first few rows of the dataset\n",
    "print(\"First few rows of the dataset:\")\n",
    "print(data.head())\n",
    "\n",
    "# Display basic statistics of the dataset\n",
    "print(\"\\nBasic statistics of the dataset:\")\n",
    "print(data.describe())\n",
    "\n",
    "# Check the shape of the dataset\n",
    "print(\"\\nShape of the dataset:\", data.shape)\n"
   ]
  },
  {
   "cell_type": "code",
   "execution_count": null,
   "metadata": {},
   "outputs": [],
   "source": [
    "from sklearn.ensemble import RandomForestClassifier\n",
    "\n",
    "# Split dataset into features (X) and target variable (y)\n",
    "X = data.drop('HEART FAILURE', axis=1)  # Features\n",
    "y = data['HEART FAILURE']                # Target variable\n",
    "\n",
    "# Get feature names\n",
    "feature_names = X.columns\n",
    "\n",
    "# Split the dataset into training and testing sets\n",
    "X_train, X_test, y_train, y_test = train_test_split(X, y, test_size=0.2, random_state=42)\n",
    "\n",
    "# Initialize and train the model (Example: Random Forest Classifier)\n",
    "model = RandomForestClassifier(n_estimators=100, random_state=42)\n",
    "model.fit(X_train, y_train)\n",
    "\n",
    "# Set feature names to the feature_importances_ attribute\n",
    "model.feature_names = feature_names\n",
    "\n",
    "# Make predictions\n",
    "y_pred = model.predict(X_test)\n"
   ]
  },
  {
   "cell_type": "code",
   "execution_count": null,
   "metadata": {},
   "outputs": [],
   "source": [
    "import pandas as pd\n",
    "\n",
    "# Example data with feature names\n",
    "example_data = pd.DataFrame({\n",
    "    'AGE': [63, 55, 71, 49, 70],\n",
    "    'SEX': [1, 1, 0, 1, 0],\n",
    "    'SMOKING': [1, 0, 0, 0, 0],\n",
    "    'DIABETES': [0, 1, 0, 1, 1],\n",
    "    'OBESITY': [1, 1, 1, 1, 1],\n",
    "    'ANAEMIA': [1, 1, 0, 1, 0],\n",
    "    'HIGH BLOOD PRESSURE': [0, 1, 0, 1, 1],\n",
    "    'CHOLESTROL': [233, 250, 204, 236, 354],\n",
    "    'ECG RESULT': [0, 1, 0, 1, 1]\n",
    "})\n",
    "\n",
    "# Predict using the trained model\n",
    "predictions = model.predict(example_data)\n",
    "\n",
    "# Map the predictions to human-readable labels\n",
    "prediction_labels = [\"Heart Failure\" if prediction == 1 else \"No Heart Failure\" for prediction in predictions]\n",
    "\n",
    "# Print the predictions\n",
    "for i, prediction_label in enumerate(prediction_labels, start=1):\n",
    "    print(f\"Prediction for sample row {i}: {prediction_label}\")\n"
   ]
  },
  {
   "cell_type": "code",
   "execution_count": null,
   "metadata": {},
   "outputs": [],
   "source": [
    "import pickle\n",
    "\n",
    "# Define the file path to save the model\n",
    "model_file_path = 'heart_health_model.pkl'\n",
    "\n",
    "# Save the trained model to a file\n",
    "with open(model_file_path, 'wb') as f:\n",
    "    pickle.dump(model, f)\n",
    "\n",
    "print(\"Model saved successfully!\")\n"
   ]
  }
 ],
 "metadata": {
  "kernelspec": {
   "display_name": "Python 3",
   "language": "python",
   "name": "python3"
  },
  "language_info": {
   "codemirror_mode": {
    "name": "ipython",
    "version": 3
   },
   "file_extension": ".py",
   "mimetype": "text/x-python",
   "name": "python",
   "nbconvert_exporter": "python",
   "pygments_lexer": "ipython3",
   "version": "3.10.7"
  }
 },
 "nbformat": 4,
 "nbformat_minor": 2
}
